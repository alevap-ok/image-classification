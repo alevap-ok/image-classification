{
 "cells": [
  {
   "cell_type": "markdown",
   "id": "49135a2a-2908-4e1c-a3a2-0950cf65f1ee",
   "metadata": {},
   "source": [
    "# COVID CLASSIFICATION"
   ]
  },
  {
   "cell_type": "markdown",
   "id": "c26149b9-e3df-4c5c-9fb7-d8a8cf6d3dcb",
   "metadata": {},
   "source": [
    "#### Install tensorflow"
   ]
  },
  {
   "cell_type": "code",
   "execution_count": 1,
   "id": "3c10ccaf-5e1f-41d7-9bce-903782fa4e79",
   "metadata": {},
   "outputs": [
    {
     "name": "stdout",
     "output_type": "stream",
     "text": [
      "Requirement already satisfied: tensorflow in c:\\users\\alejandra\\anaconda3\\lib\\site-packages (2.7.0)\n",
      "Requirement already satisfied: keras-preprocessing>=1.1.1 in c:\\users\\alejandra\\anaconda3\\lib\\site-packages (from tensorflow) (1.1.2)\n",
      "Requirement already satisfied: google-pasta>=0.1.1 in c:\\users\\alejandra\\anaconda3\\lib\\site-packages (from tensorflow) (0.2.0)\n",
      "Requirement already satisfied: termcolor>=1.1.0 in c:\\users\\alejandra\\anaconda3\\lib\\site-packages (from tensorflow) (1.1.0)\n",
      "Requirement already satisfied: libclang>=9.0.1 in c:\\users\\alejandra\\anaconda3\\lib\\site-packages (from tensorflow) (12.0.0)\n",
      "Requirement already satisfied: absl-py>=0.4.0 in c:\\users\\alejandra\\anaconda3\\lib\\site-packages (from tensorflow) (1.0.0)\n",
      "Requirement already satisfied: grpcio<2.0,>=1.24.3 in c:\\users\\alejandra\\anaconda3\\lib\\site-packages (from tensorflow) (1.42.0)\n",
      "Requirement already satisfied: tensorflow-io-gcs-filesystem>=0.21.0 in c:\\users\\alejandra\\anaconda3\\lib\\site-packages (from tensorflow) (0.22.0)\n",
      "Requirement already satisfied: opt-einsum>=2.3.2 in c:\\users\\alejandra\\anaconda3\\lib\\site-packages (from tensorflow) (3.3.0)\n",
      "Requirement already satisfied: h5py>=2.9.0 in c:\\users\\alejandra\\anaconda3\\lib\\site-packages (from tensorflow) (2.10.0)\n",
      "Requirement already satisfied: six>=1.12.0 in c:\\users\\alejandra\\anaconda3\\lib\\site-packages (from tensorflow) (1.16.0)\n",
      "Requirement already satisfied: tensorboard~=2.6 in c:\\users\\alejandra\\anaconda3\\lib\\site-packages (from tensorflow) (2.7.0)\n",
      "Requirement already satisfied: astunparse>=1.6.0 in c:\\users\\alejandra\\anaconda3\\lib\\site-packages (from tensorflow) (1.6.3)\n",
      "Requirement already satisfied: wheel<1.0,>=0.32.0 in c:\\users\\alejandra\\anaconda3\\lib\\site-packages (from tensorflow) (0.36.2)\n",
      "Requirement already satisfied: protobuf>=3.9.2 in c:\\users\\alejandra\\anaconda3\\lib\\site-packages (from tensorflow) (3.19.1)\n",
      "Requirement already satisfied: keras<2.8,>=2.7.0rc0 in c:\\users\\alejandra\\anaconda3\\lib\\site-packages (from tensorflow) (2.7.0)\n",
      "Requirement already satisfied: wrapt>=1.11.0 in c:\\users\\alejandra\\anaconda3\\lib\\site-packages (from tensorflow) (1.12.1)\n",
      "Requirement already satisfied: flatbuffers<3.0,>=1.12 in c:\\users\\alejandra\\anaconda3\\lib\\site-packages (from tensorflow) (2.0)\n",
      "Requirement already satisfied: gast<0.5.0,>=0.2.1 in c:\\users\\alejandra\\anaconda3\\lib\\site-packages (from tensorflow) (0.4.0)\n",
      "Requirement already satisfied: tensorflow-estimator<2.8,~=2.7.0rc0 in c:\\users\\alejandra\\anaconda3\\lib\\site-packages (from tensorflow) (2.7.0)\n",
      "Requirement already satisfied: numpy>=1.14.5 in c:\\users\\alejandra\\anaconda3\\lib\\site-packages (from tensorflow) (1.21.0)\n",
      "Requirement already satisfied: typing-extensions>=3.6.6 in c:\\users\\alejandra\\anaconda3\\lib\\site-packages (from tensorflow) (3.7.4.3)Note: you may need to restart the kernel to use updated packages.\n",
      "\n",
      "Requirement already satisfied: markdown>=2.6.8 in c:\\users\\alejandra\\anaconda3\\lib\\site-packages (from tensorboard~=2.6->tensorflow) (3.3.6)\n",
      "Requirement already satisfied: requests<3,>=2.21.0 in c:\\users\\alejandra\\anaconda3\\lib\\site-packages (from tensorboard~=2.6->tensorflow) (2.25.1)\n",
      "Requirement already satisfied: setuptools>=41.0.0 in c:\\users\\alejandra\\anaconda3\\lib\\site-packages (from tensorboard~=2.6->tensorflow) (52.0.0.post20210125)\n",
      "Requirement already satisfied: tensorboard-data-server<0.7.0,>=0.6.0 in c:\\users\\alejandra\\anaconda3\\lib\\site-packages (from tensorboard~=2.6->tensorflow) (0.6.1)\n",
      "Requirement already satisfied: google-auth-oauthlib<0.5,>=0.4.1 in c:\\users\\alejandra\\anaconda3\\lib\\site-packages (from tensorboard~=2.6->tensorflow) (0.4.6)\n",
      "Requirement already satisfied: tensorboard-plugin-wit>=1.6.0 in c:\\users\\alejandra\\anaconda3\\lib\\site-packages (from tensorboard~=2.6->tensorflow) (1.8.0)\n",
      "Requirement already satisfied: werkzeug>=0.11.15 in c:\\users\\alejandra\\anaconda3\\lib\\site-packages (from tensorboard~=2.6->tensorflow) (1.0.1)\n",
      "Requirement already satisfied: google-auth<3,>=1.6.3 in c:\\users\\alejandra\\anaconda3\\lib\\site-packages (from tensorboard~=2.6->tensorflow) (2.3.3)\n",
      "Requirement already satisfied: pyasn1-modules>=0.2.1 in c:\\users\\alejandra\\anaconda3\\lib\\site-packages (from google-auth<3,>=1.6.3->tensorboard~=2.6->tensorflow) (0.2.8)\n",
      "Requirement already satisfied: rsa<5,>=3.1.4 in c:\\users\\alejandra\\anaconda3\\lib\\site-packages (from google-auth<3,>=1.6.3->tensorboard~=2.6->tensorflow) (4.7.2)\n",
      "Requirement already satisfied: cachetools<5.0,>=2.0.0 in c:\\users\\alejandra\\anaconda3\\lib\\site-packages (from google-auth<3,>=1.6.3->tensorboard~=2.6->tensorflow) (4.2.4)\n",
      "Requirement already satisfied: requests-oauthlib>=0.7.0 in c:\\users\\alejandra\\anaconda3\\lib\\site-packages (from google-auth-oauthlib<0.5,>=0.4.1->tensorboard~=2.6->tensorflow) (1.3.0)\n",
      "Requirement already satisfied: importlib-metadata>=4.4 in c:\\users\\alejandra\\anaconda3\\lib\\site-packages (from markdown>=2.6.8->tensorboard~=2.6->tensorflow) (4.8.2)\n",
      "Requirement already satisfied: zipp>=0.5 in c:\\users\\alejandra\\anaconda3\\lib\\site-packages (from importlib-metadata>=4.4->markdown>=2.6.8->tensorboard~=2.6->tensorflow) (3.4.1)\n",
      "Requirement already satisfied: pyasn1<0.5.0,>=0.4.6 in c:\\users\\alejandra\\anaconda3\\lib\\site-packages (from pyasn1-modules>=0.2.1->google-auth<3,>=1.6.3->tensorboard~=2.6->tensorflow) (0.4.8)\n",
      "Requirement already satisfied: chardet<5,>=3.0.2 in c:\\users\\alejandra\\anaconda3\\lib\\site-packages (from requests<3,>=2.21.0->tensorboard~=2.6->tensorflow) (4.0.0)\n",
      "Requirement already satisfied: urllib3<1.27,>=1.21.1 in c:\\users\\alejandra\\anaconda3\\lib\\site-packages (from requests<3,>=2.21.0->tensorboard~=2.6->tensorflow) (1.26.4)\n",
      "Requirement already satisfied: idna<3,>=2.5 in c:\\users\\alejandra\\anaconda3\\lib\\site-packages (from requests<3,>=2.21.0->tensorboard~=2.6->tensorflow) (2.10)\n",
      "Requirement already satisfied: certifi>=2017.4.17 in c:\\users\\alejandra\\anaconda3\\lib\\site-packages (from requests<3,>=2.21.0->tensorboard~=2.6->tensorflow) (2020.12.5)\n",
      "Requirement already satisfied: oauthlib>=3.0.0 in c:\\users\\alejandra\\anaconda3\\lib\\site-packages (from requests-oauthlib>=0.7.0->google-auth-oauthlib<0.5,>=0.4.1->tensorboard~=2.6->tensorflow) (3.1.1)\n"
     ]
    }
   ],
   "source": [
    "pip install tensorflow"
   ]
  },
  {
   "cell_type": "markdown",
   "id": "31fa665f-1b88-4690-ad36-9528559e0594",
   "metadata": {},
   "source": [
    "#### Import libraries"
   ]
  },
  {
   "cell_type": "code",
   "execution_count": 2,
   "id": "920e9d13-fce9-4dee-9283-55e639fc5dfd",
   "metadata": {},
   "outputs": [],
   "source": [
    "import random\n",
    "import numpy as np\n",
    "import pandas as pd\n",
    "import os\n",
    "import sys\n",
    "import shutil\n",
    "import csv\n",
    "from posixpath import join\n",
    "import matplotlib.pyplot as plt\n",
    "import matplotlib.image as mpimg\n",
    "import tensorflow as tf\n",
    "from tensorflow.keras.preprocessing.image import ImageDataGenerator \n",
    "from tensorflow.keras import layers\n",
    "from tensorflow.keras import Model\n",
    "from sklearn.metrics import confusion_matrix, classification_report\n",
    "from tensorflow.python.keras.models import Sequential\n",
    "from tensorflow.keras.callbacks import EarlyStopping\n",
    "from tensorflow.keras.applications.vgg16 import VGG16\n",
    "from tensorflow.keras.applications import ResNet50\n",
    "from tensorflow.keras.layers import BatchNormalization, Activation, Flatten, Dense, Dropout\n",
    "from tensorflow.keras.optimizers import SGD, RMSprop, Adam\n",
    "from sklearn.metrics import classification_report, confusion_matrix\n",
    "from tensorflow.keras.layers import Conv2D, MaxPooling2D, Input"
   ]
  },
  {
   "cell_type": "markdown",
   "id": "6398fec1-77ca-47e8-9180-73e126c4ce9e",
   "metadata": {},
   "source": [
    "#### Directories"
   ]
  },
  {
   "cell_type": "code",
   "execution_count": 3,
   "id": "4da6efc0-7bb1-4d1e-999a-e003f5f341d0",
   "metadata": {},
   "outputs": [],
   "source": [
    "#Base directories\n",
    "base_dir = './dataset'\n",
    "train_dir = join(base_dir, 'train')\n",
    "test_dir = join(base_dir, 'test')\n",
    "#Directories for train\n",
    "train_covid_dir = join(train_dir, 'covid')\n",
    "train_normal_dir = join(train_dir, 'normal')\n",
    "train_pneumonia_dir = join(train_dir, 'pneumonia')\n",
    "# Directory for test\n",
    "test_covid_dir = join(test_dir, 'covid')\n",
    "test_normal_dir = join(test_dir, 'normal')\n",
    "test_pneumonia_dir = join(test_dir, 'pneumonia')"
   ]
  },
  {
   "cell_type": "markdown",
   "id": "4a56d4ba-f92d-43cf-a23a-583def3edc14",
   "metadata": {},
   "source": [
    "#### Split data into train and test folders"
   ]
  },
  {
   "cell_type": "code",
   "execution_count": 4,
   "id": "21b28c21-ec86-4ebd-9ca6-99c04dd3019d",
   "metadata": {},
   "outputs": [
    {
     "name": "stdout",
     "output_type": "stream",
     "text": [
      "Total images covid : 11520\n",
      "Training covid : 9216\n",
      "Testing covid : 2304\n",
      "Total images normal : 10728\n",
      "Training normal : 8582\n",
      "Testing normal : 2146\n",
      "Total images pneumonia : 10578\n",
      "Training pneumonia : 8462\n",
      "Testing pneumonia : 2116\n"
     ]
    }
   ],
   "source": [
    "classes_dir = ['covid', 'normal', 'pneumonia']\n",
    "root_dir = './dataset/'\n",
    "test_ratio = 0.20\n",
    "\n",
    "total_test_img = 0\n",
    "total_train_img = 0 \n",
    "\n",
    "for cls in classes_dir:\n",
    "    os.makedirs(root_dir +'train/' + cls)\n",
    "    os.makedirs(root_dir +'test/' + cls)\n",
    "\n",
    "    src = root_dir + cls\n",
    "\n",
    "    all_file_names = os.listdir(src)\n",
    "    np.random.shuffle(all_file_names)\n",
    "    train_file_names, test_file_names = np.split(np.array(all_file_names),  [int(len(all_file_names)* (1 - test_ratio))])\n",
    "\n",
    "    train_file_names = [src + '/'+ name for name in train_file_names.tolist()]\n",
    "    test_file_names = [src + '/' + name for name in test_file_names.tolist()]\n",
    "    \n",
    "    total_test_img += len(test_file_names)\n",
    "    total_train_img += len(train_file_names)\n",
    "\n",
    "    print('Total images', cls, \":\", len(all_file_names))\n",
    "    print('Training', cls, \":\", len(train_file_names))\n",
    "    print('Testing', cls, \":\", len(test_file_names))\n",
    "\n",
    "    for name in train_file_names:\n",
    "        shutil.copy(name, root_dir +'train/' + cls)\n",
    "\n",
    "    for name in test_file_names:\n",
    "        shutil.copy(name, root_dir +'test/' + cls)"
   ]
  },
  {
   "cell_type": "markdown",
   "id": "af62e26b-fa7c-47eb-a431-f1d5dfa19099",
   "metadata": {},
   "source": [
    "#### Show images"
   ]
  },
  {
   "cell_type": "code",
   "execution_count": 5,
   "id": "1ffbd56c-9a6b-47c1-a60c-2263b12eb582",
   "metadata": {},
   "outputs": [
    {
     "data": {
      "image/png": "[encoded data removed]",
      "text/plain": [
       "<Figure size 1728x1152 with 24 Axes>"
      ]
     },
     "metadata": {
      "needs_background": "light"
     },
     "output_type": "display_data"
    }
   ],
   "source": [
    "nrows = 4\n",
    "ncols = 6\n",
    "pic_index = 100\n",
    "\n",
    "fig = plt.gcf()\n",
    "fig.set_size_inches(ncols*4, nrows*4)\n",
    "\n",
    "train_covid_fnames = os.listdir(train_covid_dir)\n",
    "train_normal_fnames = os.listdir(train_normal_dir)\n",
    "train_pneumonia_fnames = os.listdir(train_pneumonia_dir)\n",
    "\n",
    "train_covid_pix = [os.path.join(train_covid_dir, fname) for fname in train_covid_fnames[ pic_index-8:pic_index]]\n",
    "train_normal_pix = [os.path.join(train_normal_dir, fname) for fname in train_normal_fnames[ pic_index-8:pic_index]]\n",
    "train_pneumonia_pix = [os.path.join(train_pneumonia_dir, fname) for fname in train_pneumonia_fnames[ pic_index-8:pic_index] ]\n",
    "\n",
    "for i, img_path in enumerate(train_covid_pix + train_normal_pix + train_pneumonia_pix):\n",
    "    sp = plt.subplot(nrows, ncols, i + 1)\n",
    "    sp.axis('Off')\n",
    "\n",
    "    img = mpimg.imread(img_path)\n",
    "    plt.imshow(img)\n",
    "\n",
    "plt.show()"
   ]
  },
  {
   "cell_type": "markdown",
   "id": "1d553093-3ef1-4e20-8064-bfcf04b18b82",
   "metadata": {},
   "source": [
    "#### Test and Train generator"
   ]
  },
  {
   "cell_type": "code",
   "execution_count": 6,
   "id": "ce06821d-04e9-4f2c-adeb-1d0bdef5c49b",
   "metadata": {},
   "outputs": [
    {
     "name": "stdout",
     "output_type": "stream",
     "text": [
      "Found 26260 images belonging to 3 classes.\n",
      "Found 6566 images belonging to 3 classes.\n"
     ]
    }
   ],
   "source": [
    "batch_size = 20\n",
    "train_datagen = ImageDataGenerator(rescale = 1./255.,rotation_range = 40, width_shift_range = 0.2, height_shift_range = 0.2, shear_range = 0.2, zoom_range = 0.2, horizontal_flip = True)\n",
    "test_datagen = ImageDataGenerator(rescale = 1.0/255.)\n",
    "\n",
    "train_generator = train_datagen.flow_from_directory(train_dir, batch_size = 20, class_mode = 'categorical', target_size = (32, 32))\n",
    "test_generator = test_datagen.flow_from_directory( test_dir,  batch_size = 20, class_mode = 'categorical', target_size = (32, 32), shuffle = False)"
   ]
  },
  {
   "cell_type": "markdown",
   "id": "0aaa047a-c316-41f0-a9bc-f270a7ad840f",
   "metadata": {},
   "source": [
    "#### To print useful information"
   ]
  },
  {
   "cell_type": "code",
   "execution_count": 7,
   "id": "97370ecd-76cf-4260-a2f5-f9dc7cce8ea4",
   "metadata": {},
   "outputs": [],
   "source": [
    "def print_info(model_hist):\n",
    "    print(\"Training Accuracy    :\", model_hist.history['acc'][-1] )\n",
    "    print(\"Training Loss        :\", model_hist.history['loss'][-1])\n",
    "    print(\"Test Accuracy        :\", model_hist.history['val_acc'][-1] )\n",
    "    print(\"Test Loss            :\", model_hist.history['val_loss'][-1])"
   ]
  },
  {
   "cell_type": "code",
   "execution_count": 8,
   "id": "5dc70e34-7975-4552-81f9-5cdd7970c369",
   "metadata": {},
   "outputs": [],
   "source": [
    "def confusion_matrix_report(model, test_gen):\n",
    "    Y_pred = model.predict(test_gen, total_test_img // batch_size+1)\n",
    "    y_pred = np.argmax(Y_pred, axis=1)\n",
    "\n",
    "    print('Confusion matrix')\n",
    "    conf_matrix = confusion_matrix(test_gen.classes, y_pred)\n",
    "    cm = np.array2string(conf_matrix)\n",
    "    print(conf_matrix)\n",
    "    print(\"\")\n",
    "\n",
    "    print('Classification report')\n",
    "    class_report = classification_report(test_gen.classes, y_pred, target_names=classes_dir)\n",
    "    print(class_report)"
   ]
  },
  {
   "cell_type": "markdown",
   "id": "6e53ab6c-480d-4477-82ac-a7b8a45e5561",
   "metadata": {},
   "source": [
    "## VGG16 "
   ]
  },
  {
   "cell_type": "code",
   "execution_count": 9,
   "id": "ce09fda4-2183-4264-ba19-e7912ed76d93",
   "metadata": {},
   "outputs": [],
   "source": [
    "def load_vgg_model_tuned():    \n",
    "    from tensorflow.keras.applications.vgg16 import VGG16\n",
    "\n",
    "    base_model = VGG16(input_shape = (32, 32, 3),\n",
    "    include_top = False,\n",
    "    weights = 'imagenet')\n",
    "\n",
    "    for layer in base_model.layers:\n",
    "        layer.trainable = False\n",
    "    \n",
    "    x = layers.Flatten()(base_model.output)\n",
    "\n",
    "    x = layers.Dense(512, use_bias = False)(x)\n",
    "    x = BatchNormalization()(x)\n",
    "    x = Activation('relu')(x)\n",
    "\n",
    "    x = layers.Dense(3, use_bias = False) (x)\n",
    "    x = BatchNormalization()(x)\n",
    "    x = Activation('softmax')(x)\n",
    "\n",
    "\n",
    "    model = tf.keras.models.Model(base_model.input, x)\n",
    "    loss = tf.keras.losses.CategoricalCrossentropy(\n",
    "        from_logits=False,\n",
    "        label_smoothing=0,\n",
    "        reduction=\"auto\",\n",
    "        name=\"categorical_crossentropy\",\n",
    "    )\n",
    "    \n",
    "    opt = Adam(learning_rate = 0.001, beta_1 = 0.9, beta_2 = 0.999, amsgrad = False)\n",
    "\n",
    "    model.compile(optimizer = opt, loss = loss, metrics = ['acc'])\n",
    "    \n",
    "    return model"
   ]
  },
  {
   "cell_type": "code",
   "execution_count": 12,
   "id": "14dab97e-0798-4c12-a7d1-7195a7f2abfa",
   "metadata": {},
   "outputs": [],
   "source": [
    "vgg_model = load_vgg_model_tuned()"
   ]
  },
  {
   "cell_type": "code",
   "execution_count": 13,
   "id": "87743a0c-b865-4d12-9fa5-031167cea2db",
   "metadata": {},
   "outputs": [
    {
     "name": "stdout",
     "output_type": "stream",
     "text": [
      "Model: \"model\"\n",
      "_________________________________________________________________\n",
      " Layer (type)                Output Shape              Param #   \n",
      "=================================================================\n",
      " input_1 (InputLayer)        [(None, 32, 32, 3)]       0         \n",
      "                                                                 \n",
      " block1_conv1 (Conv2D)       (None, 32, 32, 64)        1792      \n",
      "                                                                 \n",
      " block1_conv2 (Conv2D)       (None, 32, 32, 64)        36928     \n",
      "                                                                 \n",
      " block1_pool (MaxPooling2D)  (None, 16, 16, 64)        0         \n",
      "                                                                 \n",
      " block2_conv1 (Conv2D)       (None, 16, 16, 128)       73856     \n",
      "                                                                 \n",
      " block2_conv2 (Conv2D)       (None, 16, 16, 128)       147584    \n",
      "                                                                 \n",
      " block2_pool (MaxPooling2D)  (None, 8, 8, 128)         0         \n",
      "                                                                 \n",
      " block3_conv1 (Conv2D)       (None, 8, 8, 256)         295168    \n",
      "                                                                 \n",
      " block3_conv2 (Conv2D)       (None, 8, 8, 256)         590080    \n",
      "                                                                 \n",
      " block3_conv3 (Conv2D)       (None, 8, 8, 256)         590080    \n",
      "                                                                 \n",
      " block3_pool (MaxPooling2D)  (None, 4, 4, 256)         0         \n",
      "                                                                 \n",
      " block4_conv1 (Conv2D)       (None, 4, 4, 512)         1180160   \n",
      "                                                                 \n",
      " block4_conv2 (Conv2D)       (None, 4, 4, 512)         2359808   \n",
      "                                                                 \n",
      " block4_conv3 (Conv2D)       (None, 4, 4, 512)         2359808   \n",
      "                                                                 \n",
      " block4_pool (MaxPooling2D)  (None, 2, 2, 512)         0         \n",
      "                                                                 \n",
      " block5_conv1 (Conv2D)       (None, 2, 2, 512)         2359808   \n",
      "                                                                 \n",
      " block5_conv2 (Conv2D)       (None, 2, 2, 512)         2359808   \n",
      "                                                                 \n",
      " block5_conv3 (Conv2D)       (None, 2, 2, 512)         2359808   \n",
      "                                                                 \n",
      " block5_pool (MaxPooling2D)  (None, 1, 1, 512)         0         \n",
      "                                                                 \n",
      " flatten (Flatten)           (None, 512)               0         \n",
      "                                                                 \n",
      " dense (Dense)               (None, 512)               262144    \n",
      "                                                                 \n",
      " batch_normalization (BatchN  (None, 512)              2048      \n",
      " ormalization)                                                   \n",
      "                                                                 \n",
      " activation (Activation)     (None, 512)               0         \n",
      "                                                                 \n",
      " dense_1 (Dense)             (None, 3)                 1536      \n",
      "                                                                 \n",
      " batch_normalization_1 (Batc  (None, 3)                12        \n",
      " hNormalization)                                                 \n",
      "                                                                 \n",
      " activation_1 (Activation)   (None, 3)                 0         \n",
      "                                                                 \n",
      "=================================================================\n",
      "Total params: 14,980,428\n",
      "Trainable params: 264,710\n",
      "Non-trainable params: 14,715,718\n",
      "_________________________________________________________________\n"
     ]
    }
   ],
   "source": [
    "vgg_model.summary()"
   ]
  },
  {
   "cell_type": "code",
   "execution_count": 14,
   "id": "e3c4a2f8-c008-4008-8fd5-daa9da601869",
   "metadata": {},
   "outputs": [
    {
     "name": "stdout",
     "output_type": "stream",
     "text": [
      "Epoch 1/10\n",
      "100/100 [==============================] - 14s 132ms/step - loss: 0.6036 - acc: 0.7665 - val_loss: 0.7366 - val_acc: 0.8061\n",
      "Epoch 2/10\n",
      "100/100 [==============================] - 17s 168ms/step - loss: 0.4907 - acc: 0.8340 - val_loss: 0.6150 - val_acc: 0.7696\n",
      "Epoch 3/10\n",
      "100/100 [==============================] - 16s 163ms/step - loss: 0.4535 - acc: 0.8495 - val_loss: 0.6175 - val_acc: 0.6983\n",
      "Epoch 4/10\n",
      "100/100 [==============================] - 16s 166ms/step - loss: 0.4341 - acc: 0.8530 - val_loss: 0.4457 - val_acc: 0.8320\n",
      "Epoch 5/10\n",
      "100/100 [==============================] - 16s 163ms/step - loss: 0.3922 - acc: 0.8720 - val_loss: 0.5259 - val_acc: 0.7518\n",
      "Epoch 6/10\n",
      "100/100 [==============================] - 17s 168ms/step - loss: 0.3879 - acc: 0.8650 - val_loss: 0.2952 - val_acc: 0.9077\n",
      "Epoch 7/10\n",
      "100/100 [==============================] - 17s 166ms/step - loss: 0.3853 - acc: 0.8655 - val_loss: 0.2677 - val_acc: 0.9196\n",
      "Epoch 8/10\n",
      "100/100 [==============================] - 16s 164ms/step - loss: 0.3910 - acc: 0.8690 - val_loss: 0.6324 - val_acc: 0.7411\n",
      "Epoch 9/10\n",
      "100/100 [==============================] - 16s 163ms/step - loss: 0.3539 - acc: 0.8745 - val_loss: 0.2367 - val_acc: 0.9202\n",
      "Epoch 10/10\n",
      "100/100 [==============================] - 17s 166ms/step - loss: 0.3731 - acc: 0.8655 - val_loss: 0.4361 - val_acc: 0.8012\n"
     ]
    }
   ],
   "source": [
    "vgg_hist = vgg_model.fit(train_generator, validation_data = test_generator, steps_per_epoch = 100, epochs = 10)"
   ]
  },
  {
   "cell_type": "code",
   "execution_count": 15,
   "id": "c5c891f7-142f-4f5e-80c9-1e1259df4bdc",
   "metadata": {},
   "outputs": [
    {
     "name": "stdout",
     "output_type": "stream",
     "text": [
      "Training Accuracy    : 0.8654999732971191\n",
      "Training Loss        : 0.37313348054885864\n",
      "Test Accuracy        : 0.8012488484382629\n",
      "Test Loss            : 0.4360736906528473\n"
     ]
    }
   ],
   "source": [
    "print_info(vgg_hist)"
   ]
  },
  {
   "cell_type": "code",
   "execution_count": 16,
   "id": "660b8239-2ee6-4f21-8b0f-5b061db4bf2d",
   "metadata": {},
   "outputs": [
    {
     "name": "stdout",
     "output_type": "stream",
     "text": [
      "Confusion matrix\n",
      "[[1913  391    0]\n",
      " [   0 2130   16]\n",
      " [   0  898 1218]]\n",
      "\n",
      "Classification report\n",
      "              precision    recall  f1-score   support\n",
      "\n",
      "       covid       1.00      0.83      0.91      2304\n",
      "      normal       0.62      0.99      0.77      2146\n",
      "   pneumonia       0.99      0.58      0.73      2116\n",
      "\n",
      "    accuracy                           0.80      6566\n",
      "   macro avg       0.87      0.80      0.80      6566\n",
      "weighted avg       0.87      0.80      0.80      6566\n",
      "\n"
     ]
    }
   ],
   "source": [
    "confusion_matrix_report(vgg_model, test_generator)"
   ]
  },
  {
   "cell_type": "markdown",
   "id": "e0b3cd02-72e1-468b-98cf-242fb7fa9046",
   "metadata": {},
   "source": [
    "# Conv2D"
   ]
  },
  {
   "cell_type": "code",
   "execution_count": 17,
   "id": "1af459d3-1c5e-4b3f-8aa1-3a9f07f0e677",
   "metadata": {},
   "outputs": [],
   "source": [
    "def create_conv_net():\n",
    "    input_rgb = Input(shape = (28, 28, 3), dtype = 'float32')\n",
    "    x = Conv2D(filters = 32,\n",
    "               kernel_size = (3, 3),\n",
    "               strides = (1, 1),\n",
    "               use_bias = False)(input_rgb)\n",
    "    x = BatchNormalization()(x)\n",
    "    x = Activation('relu')(x)    \n",
    "    \n",
    "    x = MaxPooling2D(pool_size = (2, 2))(x)\n",
    "    \n",
    "    \n",
    "    x = Conv2D(filters = 64,\n",
    "              kernel_size = (3, 3),\n",
    "              strides = (1, 1),\n",
    "              use_bias = False)(x)\n",
    "    x = BatchNormalization()(x)\n",
    "    x = Activation('relu')(x)    \n",
    "    \n",
    "    x = Conv2D(filters = 128,\n",
    "              kernel_size = (3, 3),\n",
    "              strides = (1, 1),\n",
    "              use_bias = False)(x)\n",
    "    x = BatchNormalization()(x)\n",
    "    x = Activation('relu')(x)\n",
    "    \n",
    "    \n",
    "    x = Conv2D(filters = 256,\n",
    "              kernel_size = (3, 3),\n",
    "              strides = (1, 1),\n",
    "              use_bias = False)(x)\n",
    "    x = BatchNormalization()(x)\n",
    "    x = Activation('relu')(x)   \n",
    "    \n",
    "    x = Flatten()(x)\n",
    "    \n",
    "    x = Dense(512, use_bias = False)(x)\n",
    "    x = BatchNormalization()(x)\n",
    "    x = Activation('relu')(x)\n",
    "    x = Dropout(0.5)(x)\n",
    "    \n",
    "    x = Dense(3, use_bias = False)(x)\n",
    "    x = BatchNormalization()(x)\n",
    "    x = Activation('softmax')(x)\n",
    "    \n",
    "    opt = Adam(learning_rate = 0.001, beta_1 = 0.9, beta_2 = 0.999, amsgrad = False)\n",
    "    model = Model(inputs = [input_rgb], outputs = [x])\n",
    "    model.compile(optimizer = opt, loss = 'categorical_crossentropy', metrics = ['acc'])\n",
    "    return model"
   ]
  },
  {
   "cell_type": "code",
   "execution_count": 18,
   "id": "acf99724-ceb9-4f07-aa1c-9630aa2a9bea",
   "metadata": {},
   "outputs": [],
   "source": [
    "conv_model = create_conv_net()"
   ]
  },
  {
   "cell_type": "code",
   "execution_count": 19,
   "id": "4c60418f-c4e1-4c90-881a-dfe4e4b3fa56",
   "metadata": {},
   "outputs": [
    {
     "name": "stdout",
     "output_type": "stream",
     "text": [
      "Found 26260 images belonging to 3 classes.\n",
      "Found 6566 images belonging to 3 classes.\n"
     ]
    }
   ],
   "source": [
    "train_conv_generator = train_datagen.flow_from_directory(train_dir, batch_size = 20, class_mode = 'categorical', target_size = (28, 28))\n",
    "test_conv_generator = test_datagen.flow_from_directory( test_dir,  batch_size = 20, class_mode = 'categorical', target_size = (28, 28), shuffle = False)"
   ]
  },
  {
   "cell_type": "code",
   "execution_count": 20,
   "id": "92e11300-d5cc-43ee-a2a9-9ce13c08e089",
   "metadata": {},
   "outputs": [
    {
     "name": "stdout",
     "output_type": "stream",
     "text": [
      "Epoch 1/10\n",
      "100/100 [==============================] - 7s 64ms/step - loss: 0.6784 - acc: 0.7330 - val_loss: 1.6769 - val_acc: 0.3447\n",
      "Epoch 2/10\n",
      "100/100 [==============================] - 6s 63ms/step - loss: 0.5413 - acc: 0.8020 - val_loss: 2.2327 - val_acc: 0.3920\n",
      "Epoch 3/10\n",
      "100/100 [==============================] - 6s 64ms/step - loss: 0.4710 - acc: 0.8470 - val_loss: 1.4071 - val_acc: 0.5635\n",
      "Epoch 4/10\n",
      "100/100 [==============================] - 6s 64ms/step - loss: 0.4452 - acc: 0.8490 - val_loss: 1.2168 - val_acc: 0.5775\n",
      "Epoch 5/10\n",
      "100/100 [==============================] - 7s 67ms/step - loss: 0.4277 - acc: 0.8555 - val_loss: 0.7761 - val_acc: 0.6875\n",
      "Epoch 6/10\n",
      "100/100 [==============================] - 7s 68ms/step - loss: 0.4041 - acc: 0.8675 - val_loss: 0.4484 - val_acc: 0.8363\n",
      "Epoch 7/10\n",
      "100/100 [==============================] - 6s 63ms/step - loss: 0.3833 - acc: 0.8705 - val_loss: 2.3760 - val_acc: 0.4846\n",
      "Epoch 8/10\n",
      "100/100 [==============================] - 6s 62ms/step - loss: 0.3437 - acc: 0.8870 - val_loss: 1.7538 - val_acc: 0.5818\n",
      "Epoch 9/10\n",
      "100/100 [==============================] - 6s 63ms/step - loss: 0.3514 - acc: 0.8795 - val_loss: 0.8373 - val_acc: 0.6168\n",
      "Epoch 10/10\n",
      "100/100 [==============================] - 6s 65ms/step - loss: 0.3477 - acc: 0.8780 - val_loss: 0.8247 - val_acc: 0.6723\n"
     ]
    }
   ],
   "source": [
    "conv_history = conv_model.fit(train_conv_generator, validation_data = test_conv_generator, steps_per_epoch = 100, epochs = 10)"
   ]
  },
  {
   "cell_type": "code",
   "execution_count": 21,
   "id": "b94967c0-4803-435b-ba16-877c73e3b637",
   "metadata": {},
   "outputs": [
    {
     "name": "stdout",
     "output_type": "stream",
     "text": [
      "Training Accuracy    : 0.878000020980835\n",
      "Training Loss        : 0.34767529368400574\n",
      "Test Accuracy        : 0.6722509860992432\n",
      "Test Loss            : 0.8247098326683044\n"
     ]
    }
   ],
   "source": [
    "print_info(conv_history)"
   ]
  },
  {
   "cell_type": "code",
   "execution_count": 22,
   "id": "743eeb27-d48e-4ed6-921f-63d627e8c003",
   "metadata": {},
   "outputs": [
    {
     "name": "stdout",
     "output_type": "stream",
     "text": [
      "Confusion matrix\n",
      "[[1527  777    0]\n",
      " [   6 2129   11]\n",
      " [  21 1337  758]]\n",
      "\n",
      "Classification report\n",
      "              precision    recall  f1-score   support\n",
      "\n",
      "       covid       0.98      0.66      0.79      2304\n",
      "      normal       0.50      0.99      0.67      2146\n",
      "   pneumonia       0.99      0.36      0.53      2116\n",
      "\n",
      "    accuracy                           0.67      6566\n",
      "   macro avg       0.82      0.67      0.66      6566\n",
      "weighted avg       0.83      0.67      0.66      6566\n",
      "\n"
     ]
    }
   ],
   "source": [
    "confusion_matrix_report(conv_model, test_conv_generator)"
   ]
  },
  {
   "cell_type": "markdown",
   "id": "60f0d07a-5b3e-4e19-9ee5-481043c6e23b",
   "metadata": {},
   "source": [
    "# ResNet50"
   ]
  },
  {
   "cell_type": "markdown",
   "id": "00c92799-eebe-488d-b830-40d0fce10b3f",
   "metadata": {},
   "source": [
    "#### Model"
   ]
  },
  {
   "cell_type": "code",
   "execution_count": 23,
   "id": "e4de56e6-be65-41fd-bdd4-d9337f09696b",
   "metadata": {},
   "outputs": [],
   "source": [
    "resnet_model = tf.keras.Sequential()\n",
    "resnet_model.add(ResNet50(include_top=False, weights='imagenet', pooling='max', input_shape = (32, 32, 3)))"
   ]
  },
  {
   "cell_type": "code",
   "execution_count": 24,
   "id": "4a9ca430-25fc-4320-b4b3-dbd31faad19b",
   "metadata": {},
   "outputs": [],
   "source": [
    "for layer in resnet_model.layers:\n",
    "    layer.trainable = False"
   ]
  },
  {
   "cell_type": "code",
   "execution_count": 25,
   "id": "9d558ede-e161-4aa8-8d0e-cbfe47b548eb",
   "metadata": {},
   "outputs": [],
   "source": [
    "resnet_model.add(BatchNormalization())\n",
    "resnet_model.add(Flatten())\n",
    "resnet_model.add(Dense(256, activation = \"relu\"))\n",
    "resnet_model.add(Dense(3, activation='softmax'))"
   ]
  },
  {
   "cell_type": "code",
   "execution_count": 26,
   "id": "98770c72-205d-4411-bd58-ae6af16b5492",
   "metadata": {},
   "outputs": [],
   "source": [
    "resnet_model.compile(optimizer = tf.keras.optimizers.Adam(learning_rate=0.0001), loss = 'categorical_crossentropy', metrics = ['acc'])"
   ]
  },
  {
   "cell_type": "code",
   "execution_count": 27,
   "id": "2d347023-3543-41a2-af82-26c475259763",
   "metadata": {},
   "outputs": [
    {
     "name": "stdout",
     "output_type": "stream",
     "text": [
      "Model: \"sequential\"\n",
      "_________________________________________________________________\n",
      " Layer (type)                Output Shape              Param #   \n",
      "=================================================================\n",
      " resnet50 (Functional)       (None, 2048)              23587712  \n",
      "                                                                 \n",
      " batch_normalization_8 (Batc  (None, 2048)             8192      \n",
      " hNormalization)                                                 \n",
      "                                                                 \n",
      " flatten_2 (Flatten)         (None, 2048)              0         \n",
      "                                                                 \n",
      " dense_4 (Dense)             (None, 256)               524544    \n",
      "                                                                 \n",
      " dense_5 (Dense)             (None, 3)                 771       \n",
      "                                                                 \n",
      "=================================================================\n",
      "Total params: 24,121,219\n",
      "Trainable params: 529,411\n",
      "Non-trainable params: 23,591,808\n",
      "_________________________________________________________________\n"
     ]
    }
   ],
   "source": [
    "resnet_model.summary()"
   ]
  },
  {
   "cell_type": "code",
   "execution_count": 28,
   "id": "2d0e8f3a-c776-4169-a989-d99cf40d0005",
   "metadata": {},
   "outputs": [
    {
     "name": "stdout",
     "output_type": "stream",
     "text": [
      "Epoch 1/50\n",
      "100/100 [==============================] - 13s 109ms/step - loss: 0.8848 - acc: 0.5840 - val_loss: 1.1362 - val_acc: 0.3707\n",
      "Epoch 2/50\n",
      "100/100 [==============================] - 10s 105ms/step - loss: 0.7273 - acc: 0.6825 - val_loss: 0.7807 - val_acc: 0.6413\n",
      "Epoch 3/50\n",
      "100/100 [==============================] - 12s 117ms/step - loss: 0.6876 - acc: 0.6915 - val_loss: 0.6108 - val_acc: 0.7671\n",
      "Epoch 4/50\n",
      "100/100 [==============================] - 11s 115ms/step - loss: 0.6640 - acc: 0.7130 - val_loss: 0.5210 - val_acc: 0.7924\n",
      "Epoch 5/50\n",
      "100/100 [==============================] - 12s 120ms/step - loss: 0.6397 - acc: 0.7235 - val_loss: 0.5285 - val_acc: 0.7551\n",
      "Epoch 6/50\n",
      "100/100 [==============================] - 11s 115ms/step - loss: 0.6084 - acc: 0.7490 - val_loss: 0.4808 - val_acc: 0.7976\n",
      "Epoch 7/50\n",
      "100/100 [==============================] - 12s 117ms/step - loss: 0.6175 - acc: 0.7360 - val_loss: 0.4925 - val_acc: 0.7819\n",
      "Epoch 8/50\n",
      "100/100 [==============================] - 12s 117ms/step - loss: 0.6121 - acc: 0.7435 - val_loss: 0.4974 - val_acc: 0.7752\n",
      "Epoch 9/50\n",
      "100/100 [==============================] - 12s 116ms/step - loss: 0.6135 - acc: 0.7285 - val_loss: 0.4633 - val_acc: 0.8111\n",
      "Epoch 10/50\n",
      "100/100 [==============================] - 12s 119ms/step - loss: 0.5787 - acc: 0.7470 - val_loss: 0.4605 - val_acc: 0.7964\n",
      "Epoch 11/50\n",
      "100/100 [==============================] - 12s 121ms/step - loss: 0.5552 - acc: 0.7640 - val_loss: 0.4554 - val_acc: 0.8012\n",
      "Epoch 12/50\n",
      "100/100 [==============================] - 12s 119ms/step - loss: 0.5382 - acc: 0.7710 - val_loss: 0.4433 - val_acc: 0.8102\n",
      "Epoch 13/50\n",
      "100/100 [==============================] - 12s 117ms/step - loss: 0.5334 - acc: 0.7760 - val_loss: 0.4241 - val_acc: 0.8191\n",
      "Epoch 14/50\n",
      "100/100 [==============================] - 12s 117ms/step - loss: 0.5191 - acc: 0.7945 - val_loss: 0.4070 - val_acc: 0.8325\n",
      "Epoch 15/50\n",
      "100/100 [==============================] - 12s 119ms/step - loss: 0.5119 - acc: 0.7840 - val_loss: 0.4116 - val_acc: 0.8369\n",
      "Epoch 16/50\n",
      "100/100 [==============================] - 12s 116ms/step - loss: 0.5401 - acc: 0.7635 - val_loss: 0.4255 - val_acc: 0.8314\n",
      "Epoch 17/50\n",
      "100/100 [==============================] - 12s 118ms/step - loss: 0.5299 - acc: 0.7760 - val_loss: 0.4084 - val_acc: 0.8465\n",
      "Epoch 18/50\n",
      "100/100 [==============================] - 12s 117ms/step - loss: 0.5386 - acc: 0.7650 - val_loss: 0.4324 - val_acc: 0.8143\n",
      "Epoch 19/50\n",
      "100/100 [==============================] - 12s 118ms/step - loss: 0.5332 - acc: 0.7720 - val_loss: 0.4179 - val_acc: 0.8276\n",
      "Epoch 20/50\n",
      "100/100 [==============================] - 12s 117ms/step - loss: 0.5227 - acc: 0.7880 - val_loss: 0.4103 - val_acc: 0.8326\n",
      "Epoch 21/50\n",
      "100/100 [==============================] - 12s 122ms/step - loss: 0.5229 - acc: 0.7765 - val_loss: 0.3890 - val_acc: 0.8401\n",
      "Epoch 22/50\n",
      "100/100 [==============================] - 12s 121ms/step - loss: 0.5176 - acc: 0.7850 - val_loss: 0.4420 - val_acc: 0.8066\n",
      "Epoch 23/50\n",
      "100/100 [==============================] - 12s 122ms/step - loss: 0.5139 - acc: 0.7845 - val_loss: 0.4187 - val_acc: 0.8168\n",
      "Epoch 24/50\n",
      "100/100 [==============================] - 12s 125ms/step - loss: 0.5078 - acc: 0.7925 - val_loss: 0.4096 - val_acc: 0.8239\n",
      "Epoch 25/50\n",
      "100/100 [==============================] - 12s 125ms/step - loss: 0.4884 - acc: 0.7885 - val_loss: 0.3804 - val_acc: 0.8361\n",
      "Epoch 26/50\n",
      "100/100 [==============================] - 12s 122ms/step - loss: 0.5242 - acc: 0.7815 - val_loss: 0.4243 - val_acc: 0.8101\n",
      "Epoch 27/50\n",
      "100/100 [==============================] - 13s 127ms/step - loss: 0.5045 - acc: 0.7905 - val_loss: 0.3742 - val_acc: 0.8399\n",
      "Epoch 28/50\n",
      "100/100 [==============================] - 12s 121ms/step - loss: 0.4994 - acc: 0.7835 - val_loss: 0.3948 - val_acc: 0.8345\n",
      "Epoch 29/50\n",
      "100/100 [==============================] - 12s 123ms/step - loss: 0.4943 - acc: 0.7885 - val_loss: 0.4662 - val_acc: 0.7816\n",
      "Epoch 30/50\n",
      "100/100 [==============================] - 12s 122ms/step - loss: 0.4930 - acc: 0.7900 - val_loss: 0.4012 - val_acc: 0.8276\n",
      "Epoch 31/50\n",
      "100/100 [==============================] - 12s 121ms/step - loss: 0.4612 - acc: 0.8055 - val_loss: 0.3806 - val_acc: 0.8294\n",
      "Epoch 32/50\n",
      "100/100 [==============================] - 12s 120ms/step - loss: 0.4655 - acc: 0.8010 - val_loss: 0.3638 - val_acc: 0.8509\n",
      "Epoch 33/50\n",
      "100/100 [==============================] - 12s 120ms/step - loss: 0.4845 - acc: 0.7905 - val_loss: 0.3809 - val_acc: 0.8381\n",
      "Epoch 34/50\n",
      "100/100 [==============================] - 12s 119ms/step - loss: 0.4830 - acc: 0.7935 - val_loss: 0.3524 - val_acc: 0.8599\n",
      "Epoch 35/50\n",
      "100/100 [==============================] - 12s 118ms/step - loss: 0.4918 - acc: 0.7860 - val_loss: 0.3917 - val_acc: 0.8328\n",
      "Epoch 36/50\n",
      "100/100 [==============================] - 12s 125ms/step - loss: 0.4808 - acc: 0.8055 - val_loss: 0.3836 - val_acc: 0.8412\n",
      "Epoch 37/50\n",
      "100/100 [==============================] - 12s 122ms/step - loss: 0.4812 - acc: 0.7940 - val_loss: 0.3920 - val_acc: 0.8305\n",
      "Epoch 38/50\n",
      "100/100 [==============================] - 12s 122ms/step - loss: 0.4788 - acc: 0.8020 - val_loss: 0.3893 - val_acc: 0.8276\n",
      "Epoch 39/50\n",
      "100/100 [==============================] - 12s 121ms/step - loss: 0.4763 - acc: 0.7930 - val_loss: 0.3795 - val_acc: 0.8408\n",
      "Epoch 40/50\n",
      "100/100 [==============================] - 12s 120ms/step - loss: 0.4922 - acc: 0.7990 - val_loss: 0.3984 - val_acc: 0.8172\n",
      "Epoch 41/50\n",
      "100/100 [==============================] - 12s 121ms/step - loss: 0.4582 - acc: 0.8085 - val_loss: 0.3989 - val_acc: 0.8137\n",
      "Epoch 42/50\n",
      "100/100 [==============================] - 12s 123ms/step - loss: 0.4705 - acc: 0.8045 - val_loss: 0.3984 - val_acc: 0.8140\n",
      "Epoch 43/50\n",
      "100/100 [==============================] - 12s 122ms/step - loss: 0.4851 - acc: 0.7975 - val_loss: 0.3781 - val_acc: 0.8337\n",
      "Epoch 44/50\n",
      "100/100 [==============================] - 13s 126ms/step - loss: 0.4659 - acc: 0.8120 - val_loss: 0.3797 - val_acc: 0.8274\n",
      "Epoch 45/50\n",
      "100/100 [==============================] - 12s 122ms/step - loss: 0.4418 - acc: 0.8210 - val_loss: 0.3733 - val_acc: 0.8348\n",
      "Epoch 46/50\n",
      "100/100 [==============================] - 12s 121ms/step - loss: 0.4384 - acc: 0.8130 - val_loss: 0.3888 - val_acc: 0.8227\n",
      "Epoch 47/50\n",
      "100/100 [==============================] - 12s 120ms/step - loss: 0.4813 - acc: 0.8075 - val_loss: 0.3868 - val_acc: 0.8337\n",
      "Epoch 48/50\n",
      "100/100 [==============================] - 12s 121ms/step - loss: 0.4852 - acc: 0.8020 - val_loss: 0.3748 - val_acc: 0.8538\n",
      "Epoch 49/50\n",
      "100/100 [==============================] - 12s 120ms/step - loss: 0.4566 - acc: 0.8155 - val_loss: 0.3800 - val_acc: 0.8623\n",
      "Epoch 50/50\n",
      "100/100 [==============================] - 12s 119ms/step - loss: 0.4662 - acc: 0.8080 - val_loss: 0.3726 - val_acc: 0.8437\n"
     ]
    }
   ],
   "source": [
    "resnet_history = resnet_model.fit(train_generator, validation_data = test_generator, steps_per_epoch = 100, epochs = 50)"
   ]
  },
  {
   "cell_type": "code",
   "execution_count": 29,
   "id": "84516c4d-cbb7-4c6a-b70d-f6b025503cdb",
   "metadata": {},
   "outputs": [
    {
     "name": "stdout",
     "output_type": "stream",
     "text": [
      "Training Accuracy    : 0.8080000281333923\n",
      "Training Loss        : 0.4662344753742218\n",
      "Test Accuracy        : 0.8437404632568359\n",
      "Test Loss            : 0.372641921043396\n"
     ]
    }
   ],
   "source": [
    "print_info(resnet_history)"
   ]
  },
  {
   "cell_type": "code",
   "execution_count": 30,
   "id": "d91321f3-3fb5-45e5-be36-0a5cc47980e5",
   "metadata": {},
   "outputs": [
    {
     "name": "stdout",
     "output_type": "stream",
     "text": [
      "Confusion matrix\n",
      "[[2010  226   68]\n",
      " [  22 2094   30]\n",
      " [  27  653 1436]]\n",
      "\n",
      "Classification report\n",
      "              precision    recall  f1-score   support\n",
      "\n",
      "       covid       0.98      0.87      0.92      2304\n",
      "      normal       0.70      0.98      0.82      2146\n",
      "   pneumonia       0.94      0.68      0.79      2116\n",
      "\n",
      "    accuracy                           0.84      6566\n",
      "   macro avg       0.87      0.84      0.84      6566\n",
      "weighted avg       0.87      0.84      0.84      6566\n",
      "\n"
     ]
    }
   ],
   "source": [
    "confusion_matrix_report(resnet_model, test_generator)"
   ]
  },
  {
   "cell_type": "code",
   "execution_count": null,
   "id": "bce84648-83c7-45a0-ba9e-f7cce7189d40",
   "metadata": {},
   "outputs": [],
   "source": []
  }
 ],
 "metadata": {
  "kernelspec": {
   "display_name": "Python 3",
   "language": "python",
   "name": "python3"
  },
  "language_info": {
   "codemirror_mode": {
    "name": "ipython",
    "version": 3
   },
   "file_extension": ".py",
   "mimetype": "text/x-python",
   "name": "python",
   "nbconvert_exporter": "python",
   "pygments_lexer": "ipython3",
   "version": "3.8.8"
  }
 },
 "nbformat": 4,
 "nbformat_minor": 5
}
